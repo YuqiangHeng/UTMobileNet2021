{
 "cells": [
  {
   "cell_type": "code",
   "execution_count": 1,
   "metadata": {},
   "outputs": [
    {
     "name": "stdout",
     "output_type": "stream",
     "text": [
      "     Application       RFC       XGB       KNN\n",
      "13       YouTube  0.896184  0.891841  0.832910\n",
      "0        Dropbox  0.849748  0.845574  0.737569\n",
      "8        Pandora  0.844988  0.850521  0.773454\n",
      "11       Spotify  0.840391  0.845886  0.749615\n",
      "4           Hulu  0.837389  0.830147  0.774495\n",
      "12       Twitter  0.782884  0.777376  0.732368\n",
      "10        Reddit  0.769563  0.785333  0.637437\n",
      "7        Netflix  0.724149  0.722462  0.622800\n",
      "9      Pinterest  0.711339  0.734378  0.638909\n",
      "3   Google Drive  0.687112  0.647523  0.508215\n",
      "5      Instagram  0.653390  0.677274  0.456870\n",
      "1       Facebook  0.614627  0.587601  0.480290\n",
      "2          Gmail  0.550867  0.560655  0.466720\n",
      "6      Messenger  0.482096  0.442239  0.453955\n"
     ]
    },
    {
     "data": {
      "text/plain": [
       "<matplotlib.axes._subplots.AxesSubplot at 0x16d21f4e3c8>"
      ]
     },
     "execution_count": 1,
     "metadata": {},
     "output_type": "execute_result"
    },
    {
     "data": {
      "image/png": "[encoded data removed]",
      "text/plain": [
       "<Figure size 432x288 with 1 Axes>"
      ]
     },
     "metadata": {
      "needs_background": "light"
     },
     "output_type": "display_data"
    }
   ],
   "source": [
    "\"\"\"\n",
    "@author: Yuqiang (Ethan) Heng\n",
    "\"\"\"\n",
    "import numpy as np\n",
    "import pandas as pd\n",
    "import matplotlib.pyplot as plt\n",
    "from sklearn.utils import resample\n",
    "\n",
    "from sklearn.model_selection import cross_val_score, KFold, train_test_split, StratifiedKFold, GridSearchCV\n",
    "from sklearn.preprocessing import LabelEncoder, StandardScaler\n",
    "from sklearn.metrics import accuracy_score,classification_report\n",
    "from sklearn.ensemble import RandomForestClassifier\n",
    "from sklearn.metrics import plot_confusion_matrix\n",
    "\n",
    "from sklearn.neighbors import KNeighborsClassifier\n",
    "from xgboost import XGBClassifier\n",
    "\n",
    "df = pd.read_csv('./Processed Data/random_scenario_bi_flow_features.csv',low_memory=False).dropna().drop('Unnamed: 0',axis=1)\n",
    "dl_features = [f for f in df.columns.values if f.split('_')[0] == 'dl']\n",
    "ul_features = [f for f in df.columns.values if f.split('_')[0] == 'ul']\n",
    "features = np.concatenate((dl_features,ul_features))\n",
    "\n",
    "rfc_f1_per_app = {app:[] for app in df['app'].unique()}\n",
    "knn_f1_per_app = {app:[] for app in df['app'].unique()}\n",
    "xgb_f1_per_app = {app:[] for app in df['app'].unique()}\n",
    "\n",
    "num_apps = len(df['app'].unique())\n",
    "X = df[dl_features]\n",
    "scaler = StandardScaler()\n",
    "X = scaler.fit_transform(X)\n",
    "le = LabelEncoder()\n",
    "Y = le.fit_transform(df['app'])\n",
    "kfold = KFold(n_splits=10, shuffle = True, random_state=7)\n",
    "for k, (train, test) in enumerate(kfold.split(X, Y)):\n",
    "    rfc = RandomForestClassifier()\n",
    "    rfc.fit(X[train], Y[train])\n",
    "    rfc_predit = rfc.predict(X[test])\n",
    "    rfc_report = classification_report(Y[test],rfc_predit,target_names=le.inverse_transform(np.arange(num_apps)),digits=3,output_dict=True)\n",
    "\n",
    "    knn = KNeighborsClassifier()\n",
    "    knn.fit(X[train], Y[train])\n",
    "    knn_predit = knn.predict(X[test])\n",
    "    knn_report = classification_report(Y[test],knn_predit,target_names=le.inverse_transform(np.arange(num_apps)),digits=3,output_dict=True)\n",
    "    \n",
    "    xgb = XGBClassifier()\n",
    "    xgb.fit(X[train], Y[train])\n",
    "    xgb_predit = xgb.predict(X[test])\n",
    "    xgb_report = classification_report(Y[test],xgb_predit,target_names=le.inverse_transform(np.arange(num_apps)),digits=3,output_dict=True)\n",
    "    \n",
    "    for app_name in df['app'].unique():\n",
    "        rfc_f1_per_app[app_name].append(rfc_report[app_name]['f1-score'])\n",
    "        knn_f1_per_app[app_name].append(knn_report[app_name]['f1-score'])\n",
    "        xgb_f1_per_app[app_name].append(xgb_report[app_name]['f1-score'])\n",
    "        \n",
    "app_names = {'youtube':'YouTube','spotify':'Spotify','dropbox':'Dropbox','pandora':'Pandora','hulu':'Hulu',\n",
    "             'twitter':'Twitter','reddit':'Reddit','pinterest':'Pinterest','netflix':'Netflix','google-drive':'Google Drive',\n",
    "             'instagram':'Instagram','facebook':'Facebook','gmail':'Gmail','messenger':'Messenger','hangout':'Hangout','google-maps':'Google Maps'}\n",
    "\n",
    "plot_df = pd.DataFrame({'Application':[app_names[app_name] for app_name in df['app'].unique()],\n",
    "                        'RFC':[np.array(rfc_f1_per_app[app_name]).mean() for app_name in df['app'].unique()],\n",
    "                        'XGB':[np.array(xgb_f1_per_app[app_name]).mean() for app_name in df['app'].unique()],                        \n",
    "                        'KNN':[np.array(knn_f1_per_app[app_name]).mean() for app_name in df['app'].unique()]})\n",
    "plot_df = plot_df.sort_values(by='RFC',ascending=False)\n",
    "print(plot_df)\n",
    "plot_df.plot(x='Application',kind='bar',ylabel='F1 score',stacked=False)"
   ]
  },
  {
   "cell_type": "code",
   "execution_count": null,
   "metadata": {},
   "outputs": [],
   "source": []
  }
 ],
 "metadata": {
  "kernelspec": {
   "display_name": "Python 3",
   "language": "python",
   "name": "python3"
  },
  "language_info": {
   "codemirror_mode": {
    "name": "ipython",
    "version": 3
   },
   "file_extension": ".py",
   "mimetype": "text/x-python",
   "name": "python",
   "nbconvert_exporter": "python",
   "pygments_lexer": "ipython3",
   "version": "3.7.4"
  }
 },
 "nbformat": 4,
 "nbformat_minor": 4
}
